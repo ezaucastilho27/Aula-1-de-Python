{
 "cells": [
  {
   "cell_type": "code",
   "execution_count": null,
   "metadata": {},
   "outputs": [],
   "source": [
    "#O produto do dobro do primeiro com metade do segundo.\n",
    "#A soma do triplo do primeiro com o terceiro. o terceiro elevado ao cubo.\n",
    "# Pedindo os números inteiros e o número real\n",
    "#1) Faça um Programa que peça 2 números inteiros e um número real. Calcule e mostre:\n",
    "num_int1 = int(input(\"Digite o primeiro número inteiro: \"))\n",
    "num_int2 = int(input(\"Digite o segundo número inteiro: \"))\n",
    "num_real = float(input(\"Digite o número real: \"))\n",
    "\n",
    "# Calculando as operações\n",
    "resultado_a = (2 * num_int1) * (num_int2 / 2)\n",
    "resultado_b_soma = (3 * num_int1) + num_real\n",
    "resultado_b_cubo = num_real ** 3\n",
    "\n",
    "# Mostrando os resultados\n",
    "print(\"a) O produto do dobro do primeiro com metade do segundo é:\", resultado_a)\n",
    "print(\"b) A soma do triplo do primeiro com o terceiro é:\", resultado_b_soma)\n",
    "print(\"c) O terceiro elevado ao cubo é:\", resultado_b_cubo)"
   ]
  },
  {
   "cell_type": "code",
   "execution_count": null,
   "metadata": {},
   "outputs": [],
   "source": [
    "precoCarro = float(input(\"Qual o valor do carro?\"))\n",
    "anoCarro = int(input(\"Qual o ano do carro?\"))\n",
    "if anoCarro >= 1990:\n",
    "    taxaAno = 0.01\n",
    "    valorTotal = precoCarro * taxaAno\n",
    "    print(\"O valor do imposto é R$\", valorTotal)\n",
    "else:\n",
    "    taxaAno = 0.015\n",
    "    valorTotal = precoCarro * taxaAno\n",
    "    print(\"O valor do imposto é R$\", valorTotal)"
   ]
  }
 ],
 "metadata": {
  "language_info": {
   "name": "python"
  }
 },
 "nbformat": 4,
 "nbformat_minor": 2
}

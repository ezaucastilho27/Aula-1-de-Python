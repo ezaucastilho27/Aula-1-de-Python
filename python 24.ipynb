{
 "cells": [
  {
   "cell_type": "code",
   "execution_count": null,
   "metadata": {},
   "outputs": [],
   "source": [
    "precoCarro = float(input(\"Qual o valor do carro?\"))\n",
    "anoCarro = int(input(\"Qual o ano do carro?\"))\n",
    "if anoCarro >= 1990:\n",
    "    taxaAno = 0.01\n",
    "    valorTotal = precoCarro * taxaAno\n",
    "    print(\"O valor do imposto é R$\", valorTotal)\n",
    "else:\n",
    "    taxaAno = 0.015\n",
    "    valorTotal = precoCarro * taxaAno\n",
    "    print(\"O valor do imposto é R$\", valorTotal)"
   ]
  },
  {
   "cell_type": "code",
   "execution_count": null,
   "metadata": {},
   "outputs": [],
   "source": [
    "cargo= int(input(\"Digite seu código do seu cargo\"))\n",
    "salario = float(input(\"Digite seu sálario atual\"))\n",
    "gerente = 101\n",
    "engenheiro = 102\n",
    "tecnico = 103\n",
    "aumento= 0\n",
    "if (cargo == gerente):\n",
    "    aumento = salario + (salario*0.1)\n",
    "elif (cargo == engenheiro):\n",
    "    aumento = salario + (salario*0.2)\n",
    "elif (cargo == tecnico):\n",
    "    aumento = salario + (salario*0.3)\n",
    "\n",
    "else:\n",
    "    aumento = salario + (salario*0.4)\n",
    "print(f\"O funcionário da empresa tinha o salário de {salario}, seu novo salário é {aumento}, e o aumento foi de\", aumento - salario)"
   ]
  }
 ],
 "metadata": {
  "kernelspec": {
   "display_name": "Python 3",
   "language": "python",
   "name": "python3"
  },
  "language_info": {
   "name": "python",
   "version": "3.11.4"
  }
 },
 "nbformat": 4,
 "nbformat_minor": 2
}
